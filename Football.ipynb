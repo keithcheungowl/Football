{
 "cells": [
  {
   "cell_type": "markdown",
   "metadata": {},
   "source": [
    "# <center>FOOTBALL DATA</center> <a class=\"tocSkip\">"
   ]
  },
  {
   "cell_type": "markdown",
   "metadata": {},
   "source": [
    "# PREPARATION <a class=\"anchor\" id=\"preparation\"></a>"
   ]
  },
  {
   "cell_type": "markdown",
   "metadata": {},
   "source": [
    "## IMPORTING"
   ]
  },
  {
   "cell_type": "code",
   "execution_count": 1,
   "metadata": {
    "ExecuteTime": {
     "end_time": "2021-02-15T22:31:32.464659Z",
     "start_time": "2021-02-15T22:31:31.971033Z"
    }
   },
   "outputs": [],
   "source": [
    "# IMPORT MODULES\n",
    "import pandas as pd\n",
    "import numpy as np\n",
    "import xlsxwriter\n",
    "import calendar\n",
    "import sys\n",
    "import string"
   ]
  },
  {
   "cell_type": "code",
   "execution_count": 2,
   "metadata": {
    "ExecuteTime": {
     "end_time": "2021-02-15T22:31:32.496065Z",
     "start_time": "2021-02-15T22:31:32.470614Z"
    }
   },
   "outputs": [],
   "source": [
    "# IMPORT DATA\n",
    "filename = 'E0.csv'\n",
    "# https://www.football-data.co.uk/englandm.php\n",
    "df_original = pd.read_csv(filename)"
   ]
  },
  {
   "cell_type": "markdown",
   "metadata": {},
   "source": [
    "## PARAMETERS"
   ]
  },
  {
   "cell_type": "code",
   "execution_count": 3,
   "metadata": {
    "ExecuteTime": {
     "end_time": "2021-02-15T22:31:32.527237Z",
     "start_time": "2021-02-15T22:31:32.508027Z"
    }
   },
   "outputs": [],
   "source": [
    "# PARAMETERS\n",
    "alphabet = string.ascii_uppercase\n",
    "table_cols = 26\n",
    "c_home_goals = 'FTHG'\n",
    "c_away_goals = 'FTAG'\n",
    "c_result = 'FTR'\n",
    "col_diff = 8\n",
    "col_points = 9\n",
    "league = 'PREMIER LEAGUE'"
   ]
  },
  {
   "cell_type": "markdown",
   "metadata": {},
   "source": [
    "## PREPROCESSING"
   ]
  },
  {
   "cell_type": "code",
   "execution_count": 4,
   "metadata": {
    "ExecuteTime": {
     "end_time": "2021-02-15T22:31:32.589985Z",
     "start_time": "2021-02-15T22:31:32.530146Z"
    },
    "scrolled": true
   },
   "outputs": [
    {
     "name": "stdout",
     "output_type": "stream",
     "text": [
      "There are 225 rows and 106 columns\n"
     ]
    },
    {
     "data": {
      "text/html": [
       "<div>\n",
       "<style scoped>\n",
       "    .dataframe tbody tr th:only-of-type {\n",
       "        vertical-align: middle;\n",
       "    }\n",
       "\n",
       "    .dataframe tbody tr th {\n",
       "        vertical-align: top;\n",
       "    }\n",
       "\n",
       "    .dataframe thead th {\n",
       "        text-align: right;\n",
       "    }\n",
       "</style>\n",
       "<table border=\"1\" class=\"dataframe\">\n",
       "  <thead>\n",
       "    <tr style=\"text-align: right;\">\n",
       "      <th></th>\n",
       "      <th>Div</th>\n",
       "      <th>Date</th>\n",
       "      <th>Time</th>\n",
       "      <th>HomeTeam</th>\n",
       "      <th>AwayTeam</th>\n",
       "      <th>FTHG</th>\n",
       "      <th>FTAG</th>\n",
       "      <th>FTR</th>\n",
       "      <th>HTHG</th>\n",
       "      <th>HTAG</th>\n",
       "      <th>...</th>\n",
       "      <th>AvgC&lt;2.5</th>\n",
       "      <th>AHCh</th>\n",
       "      <th>B365CAHH</th>\n",
       "      <th>B365CAHA</th>\n",
       "      <th>PCAHH</th>\n",
       "      <th>PCAHA</th>\n",
       "      <th>MaxCAHH</th>\n",
       "      <th>MaxCAHA</th>\n",
       "      <th>AvgCAHH</th>\n",
       "      <th>AvgCAHA</th>\n",
       "    </tr>\n",
       "  </thead>\n",
       "  <tbody>\n",
       "    <tr>\n",
       "      <th>0</th>\n",
       "      <td>E0</td>\n",
       "      <td>2020-09-12</td>\n",
       "      <td>12:30</td>\n",
       "      <td>Fulham</td>\n",
       "      <td>Arsenal</td>\n",
       "      <td>0</td>\n",
       "      <td>3</td>\n",
       "      <td>A</td>\n",
       "      <td>0</td>\n",
       "      <td>1</td>\n",
       "      <td>...</td>\n",
       "      <td>1.84</td>\n",
       "      <td>0.75</td>\n",
       "      <td>2.01</td>\n",
       "      <td>1.89</td>\n",
       "      <td>2.02</td>\n",
       "      <td>1.91</td>\n",
       "      <td>2.13</td>\n",
       "      <td>1.92</td>\n",
       "      <td>2.02</td>\n",
       "      <td>1.87</td>\n",
       "    </tr>\n",
       "    <tr>\n",
       "      <th>1</th>\n",
       "      <td>E0</td>\n",
       "      <td>2020-09-12</td>\n",
       "      <td>15:00</td>\n",
       "      <td>Crystal Palace</td>\n",
       "      <td>Southampton</td>\n",
       "      <td>1</td>\n",
       "      <td>0</td>\n",
       "      <td>H</td>\n",
       "      <td>1</td>\n",
       "      <td>0</td>\n",
       "      <td>...</td>\n",
       "      <td>1.70</td>\n",
       "      <td>0.25</td>\n",
       "      <td>1.78</td>\n",
       "      <td>2.13</td>\n",
       "      <td>1.79</td>\n",
       "      <td>2.17</td>\n",
       "      <td>1.85</td>\n",
       "      <td>2.18</td>\n",
       "      <td>1.79</td>\n",
       "      <td>2.12</td>\n",
       "    </tr>\n",
       "    <tr>\n",
       "      <th>2</th>\n",
       "      <td>E0</td>\n",
       "      <td>2020-09-12</td>\n",
       "      <td>17:30</td>\n",
       "      <td>Liverpool</td>\n",
       "      <td>Leeds</td>\n",
       "      <td>4</td>\n",
       "      <td>3</td>\n",
       "      <td>H</td>\n",
       "      <td>3</td>\n",
       "      <td>2</td>\n",
       "      <td>...</td>\n",
       "      <td>2.62</td>\n",
       "      <td>-1.50</td>\n",
       "      <td>1.85</td>\n",
       "      <td>2.05</td>\n",
       "      <td>1.85</td>\n",
       "      <td>2.08</td>\n",
       "      <td>1.90</td>\n",
       "      <td>2.16</td>\n",
       "      <td>1.84</td>\n",
       "      <td>2.04</td>\n",
       "    </tr>\n",
       "    <tr>\n",
       "      <th>3</th>\n",
       "      <td>E0</td>\n",
       "      <td>2020-09-12</td>\n",
       "      <td>20:00</td>\n",
       "      <td>West Ham</td>\n",
       "      <td>Newcastle</td>\n",
       "      <td>0</td>\n",
       "      <td>2</td>\n",
       "      <td>A</td>\n",
       "      <td>0</td>\n",
       "      <td>0</td>\n",
       "      <td>...</td>\n",
       "      <td>1.92</td>\n",
       "      <td>-0.50</td>\n",
       "      <td>2.03</td>\n",
       "      <td>1.87</td>\n",
       "      <td>2.04</td>\n",
       "      <td>1.88</td>\n",
       "      <td>2.09</td>\n",
       "      <td>1.91</td>\n",
       "      <td>2.02</td>\n",
       "      <td>1.86</td>\n",
       "    </tr>\n",
       "    <tr>\n",
       "      <th>4</th>\n",
       "      <td>E0</td>\n",
       "      <td>2020-09-13</td>\n",
       "      <td>14:00</td>\n",
       "      <td>West Brom</td>\n",
       "      <td>Leicester</td>\n",
       "      <td>0</td>\n",
       "      <td>3</td>\n",
       "      <td>A</td>\n",
       "      <td>0</td>\n",
       "      <td>0</td>\n",
       "      <td>...</td>\n",
       "      <td>1.73</td>\n",
       "      <td>0.25</td>\n",
       "      <td>1.92</td>\n",
       "      <td>1.98</td>\n",
       "      <td>1.93</td>\n",
       "      <td>1.99</td>\n",
       "      <td>1.95</td>\n",
       "      <td>2.01</td>\n",
       "      <td>1.91</td>\n",
       "      <td>1.97</td>\n",
       "    </tr>\n",
       "    <tr>\n",
       "      <th>...</th>\n",
       "      <td>...</td>\n",
       "      <td>...</td>\n",
       "      <td>...</td>\n",
       "      <td>...</td>\n",
       "      <td>...</td>\n",
       "      <td>...</td>\n",
       "      <td>...</td>\n",
       "      <td>...</td>\n",
       "      <td>...</td>\n",
       "      <td>...</td>\n",
       "      <td>...</td>\n",
       "      <td>...</td>\n",
       "      <td>...</td>\n",
       "      <td>...</td>\n",
       "      <td>...</td>\n",
       "      <td>...</td>\n",
       "      <td>...</td>\n",
       "      <td>...</td>\n",
       "      <td>...</td>\n",
       "      <td>...</td>\n",
       "      <td>...</td>\n",
       "    </tr>\n",
       "    <tr>\n",
       "      <th>220</th>\n",
       "      <td>E0</td>\n",
       "      <td>2021-02-07</td>\n",
       "      <td>12:00</td>\n",
       "      <td>Tottenham</td>\n",
       "      <td>West Brom</td>\n",
       "      <td>2</td>\n",
       "      <td>0</td>\n",
       "      <td>H</td>\n",
       "      <td>0</td>\n",
       "      <td>0</td>\n",
       "      <td>...</td>\n",
       "      <td>2.19</td>\n",
       "      <td>-1.25</td>\n",
       "      <td>1.91</td>\n",
       "      <td>2.02</td>\n",
       "      <td>1.93</td>\n",
       "      <td>2.00</td>\n",
       "      <td>2.02</td>\n",
       "      <td>2.15</td>\n",
       "      <td>1.88</td>\n",
       "      <td>2.01</td>\n",
       "    </tr>\n",
       "    <tr>\n",
       "      <th>221</th>\n",
       "      <td>E0</td>\n",
       "      <td>2021-02-07</td>\n",
       "      <td>14:00</td>\n",
       "      <td>Wolves</td>\n",
       "      <td>Leicester</td>\n",
       "      <td>0</td>\n",
       "      <td>0</td>\n",
       "      <td>D</td>\n",
       "      <td>0</td>\n",
       "      <td>0</td>\n",
       "      <td>...</td>\n",
       "      <td>1.64</td>\n",
       "      <td>0.25</td>\n",
       "      <td>1.93</td>\n",
       "      <td>1.97</td>\n",
       "      <td>1.96</td>\n",
       "      <td>1.96</td>\n",
       "      <td>1.99</td>\n",
       "      <td>2.03</td>\n",
       "      <td>1.92</td>\n",
       "      <td>1.96</td>\n",
       "    </tr>\n",
       "    <tr>\n",
       "      <th>222</th>\n",
       "      <td>E0</td>\n",
       "      <td>2021-02-07</td>\n",
       "      <td>16:30</td>\n",
       "      <td>Liverpool</td>\n",
       "      <td>Man City</td>\n",
       "      <td>1</td>\n",
       "      <td>4</td>\n",
       "      <td>A</td>\n",
       "      <td>0</td>\n",
       "      <td>0</td>\n",
       "      <td>...</td>\n",
       "      <td>2.12</td>\n",
       "      <td>0.25</td>\n",
       "      <td>1.92</td>\n",
       "      <td>2.01</td>\n",
       "      <td>1.93</td>\n",
       "      <td>2.00</td>\n",
       "      <td>2.02</td>\n",
       "      <td>2.03</td>\n",
       "      <td>1.92</td>\n",
       "      <td>1.97</td>\n",
       "    </tr>\n",
       "    <tr>\n",
       "      <th>223</th>\n",
       "      <td>E0</td>\n",
       "      <td>2021-02-07</td>\n",
       "      <td>19:15</td>\n",
       "      <td>Sheffield United</td>\n",
       "      <td>Chelsea</td>\n",
       "      <td>1</td>\n",
       "      <td>2</td>\n",
       "      <td>A</td>\n",
       "      <td>0</td>\n",
       "      <td>1</td>\n",
       "      <td>...</td>\n",
       "      <td>1.87</td>\n",
       "      <td>1.00</td>\n",
       "      <td>2.01</td>\n",
       "      <td>1.92</td>\n",
       "      <td>1.99</td>\n",
       "      <td>1.93</td>\n",
       "      <td>2.10</td>\n",
       "      <td>1.96</td>\n",
       "      <td>2.02</td>\n",
       "      <td>1.86</td>\n",
       "    </tr>\n",
       "    <tr>\n",
       "      <th>224</th>\n",
       "      <td>E0</td>\n",
       "      <td>2021-02-08</td>\n",
       "      <td>20:00</td>\n",
       "      <td>Leeds</td>\n",
       "      <td>Crystal Palace</td>\n",
       "      <td>2</td>\n",
       "      <td>0</td>\n",
       "      <td>H</td>\n",
       "      <td>1</td>\n",
       "      <td>0</td>\n",
       "      <td>...</td>\n",
       "      <td>1.97</td>\n",
       "      <td>-0.75</td>\n",
       "      <td>2.05</td>\n",
       "      <td>1.88</td>\n",
       "      <td>2.05</td>\n",
       "      <td>1.88</td>\n",
       "      <td>2.10</td>\n",
       "      <td>1.89</td>\n",
       "      <td>2.05</td>\n",
       "      <td>1.84</td>\n",
       "    </tr>\n",
       "  </tbody>\n",
       "</table>\n",
       "<p>225 rows × 106 columns</p>\n",
       "</div>"
      ],
      "text/plain": [
       "    Div       Date   Time          HomeTeam        AwayTeam  FTHG  FTAG FTR  \\\n",
       "0    E0 2020-09-12  12:30            Fulham         Arsenal     0     3   A   \n",
       "1    E0 2020-09-12  15:00    Crystal Palace     Southampton     1     0   H   \n",
       "2    E0 2020-09-12  17:30         Liverpool           Leeds     4     3   H   \n",
       "3    E0 2020-09-12  20:00          West Ham       Newcastle     0     2   A   \n",
       "4    E0 2020-09-13  14:00         West Brom       Leicester     0     3   A   \n",
       "..   ..        ...    ...               ...             ...   ...   ...  ..   \n",
       "220  E0 2021-02-07  12:00         Tottenham       West Brom     2     0   H   \n",
       "221  E0 2021-02-07  14:00            Wolves       Leicester     0     0   D   \n",
       "222  E0 2021-02-07  16:30         Liverpool        Man City     1     4   A   \n",
       "223  E0 2021-02-07  19:15  Sheffield United         Chelsea     1     2   A   \n",
       "224  E0 2021-02-08  20:00             Leeds  Crystal Palace     2     0   H   \n",
       "\n",
       "     HTHG  HTAG  ... AvgC<2.5  AHCh  B365CAHH  B365CAHA  PCAHH  PCAHA  \\\n",
       "0       0     1  ...     1.84  0.75      2.01      1.89   2.02   1.91   \n",
       "1       1     0  ...     1.70  0.25      1.78      2.13   1.79   2.17   \n",
       "2       3     2  ...     2.62 -1.50      1.85      2.05   1.85   2.08   \n",
       "3       0     0  ...     1.92 -0.50      2.03      1.87   2.04   1.88   \n",
       "4       0     0  ...     1.73  0.25      1.92      1.98   1.93   1.99   \n",
       "..    ...   ...  ...      ...   ...       ...       ...    ...    ...   \n",
       "220     0     0  ...     2.19 -1.25      1.91      2.02   1.93   2.00   \n",
       "221     0     0  ...     1.64  0.25      1.93      1.97   1.96   1.96   \n",
       "222     0     0  ...     2.12  0.25      1.92      2.01   1.93   2.00   \n",
       "223     0     1  ...     1.87  1.00      2.01      1.92   1.99   1.93   \n",
       "224     1     0  ...     1.97 -0.75      2.05      1.88   2.05   1.88   \n",
       "\n",
       "     MaxCAHH  MaxCAHA  AvgCAHH  AvgCAHA  \n",
       "0       2.13     1.92     2.02     1.87  \n",
       "1       1.85     2.18     1.79     2.12  \n",
       "2       1.90     2.16     1.84     2.04  \n",
       "3       2.09     1.91     2.02     1.86  \n",
       "4       1.95     2.01     1.91     1.97  \n",
       "..       ...      ...      ...      ...  \n",
       "220     2.02     2.15     1.88     2.01  \n",
       "221     1.99     2.03     1.92     1.96  \n",
       "222     2.02     2.03     1.92     1.97  \n",
       "223     2.10     1.96     2.02     1.86  \n",
       "224     2.10     1.89     2.05     1.84  \n",
       "\n",
       "[225 rows x 106 columns]"
      ]
     },
     "execution_count": 4,
     "metadata": {},
     "output_type": "execute_result"
    }
   ],
   "source": [
    "# CONVERT TO DATETIME\n",
    "df = df_original.copy()\n",
    "df['Date'] = pd.to_datetime(df['Date'], dayfirst=True)\n",
    "n = df.shape[0]\n",
    "num_cols = df.shape[1]\n",
    "print(f'There are {n} rows and {num_cols} columns')\n",
    "df"
   ]
  },
  {
   "cell_type": "code",
   "execution_count": 5,
   "metadata": {
    "ExecuteTime": {
     "end_time": "2021-02-15T22:31:32.604945Z",
     "start_time": "2021-02-15T22:31:32.590983Z"
    }
   },
   "outputs": [],
   "source": [
    "# REPLACE 'H', 'D', 'A'\n",
    "df.FTR = df.FTR.replace('H', 'Home win')\n",
    "df.FTR = df.FTR.replace('D', 'Draw')\n",
    "df.FTR = df.FTR.replace('A', 'Away win')"
   ]
  },
  {
   "cell_type": "code",
   "execution_count": 6,
   "metadata": {
    "ExecuteTime": {
     "end_time": "2021-02-15T22:31:32.651858Z",
     "start_time": "2021-02-15T22:31:32.606940Z"
    }
   },
   "outputs": [
    {
     "data": {
      "text/html": [
       "<div>\n",
       "<style scoped>\n",
       "    .dataframe tbody tr th:only-of-type {\n",
       "        vertical-align: middle;\n",
       "    }\n",
       "\n",
       "    .dataframe tbody tr th {\n",
       "        vertical-align: top;\n",
       "    }\n",
       "\n",
       "    .dataframe thead th {\n",
       "        text-align: right;\n",
       "    }\n",
       "</style>\n",
       "<table border=\"1\" class=\"dataframe\">\n",
       "  <thead>\n",
       "    <tr style=\"text-align: right;\">\n",
       "      <th></th>\n",
       "      <th>Div</th>\n",
       "      <th>Date</th>\n",
       "      <th>Time</th>\n",
       "      <th>HomeTeam</th>\n",
       "      <th>AwayTeam</th>\n",
       "      <th>FTHG</th>\n",
       "      <th>FTAG</th>\n",
       "      <th>FTR</th>\n",
       "      <th>HTHG</th>\n",
       "      <th>HTAG</th>\n",
       "      <th>...</th>\n",
       "      <th>AvgC&lt;2.5</th>\n",
       "      <th>AHCh</th>\n",
       "      <th>B365CAHH</th>\n",
       "      <th>B365CAHA</th>\n",
       "      <th>PCAHH</th>\n",
       "      <th>PCAHA</th>\n",
       "      <th>MaxCAHH</th>\n",
       "      <th>MaxCAHA</th>\n",
       "      <th>AvgCAHH</th>\n",
       "      <th>AvgCAHA</th>\n",
       "    </tr>\n",
       "  </thead>\n",
       "  <tbody>\n",
       "    <tr>\n",
       "      <th>0</th>\n",
       "      <td>E0</td>\n",
       "      <td>2020-09-12</td>\n",
       "      <td>12:30</td>\n",
       "      <td>Fulham</td>\n",
       "      <td>Arsenal</td>\n",
       "      <td>0</td>\n",
       "      <td>3</td>\n",
       "      <td>Away win</td>\n",
       "      <td>0</td>\n",
       "      <td>1</td>\n",
       "      <td>...</td>\n",
       "      <td>1.84</td>\n",
       "      <td>0.75</td>\n",
       "      <td>2.01</td>\n",
       "      <td>1.89</td>\n",
       "      <td>2.02</td>\n",
       "      <td>1.91</td>\n",
       "      <td>2.13</td>\n",
       "      <td>1.92</td>\n",
       "      <td>2.02</td>\n",
       "      <td>1.87</td>\n",
       "    </tr>\n",
       "    <tr>\n",
       "      <th>1</th>\n",
       "      <td>E0</td>\n",
       "      <td>2020-09-12</td>\n",
       "      <td>15:00</td>\n",
       "      <td>Crystal Palace</td>\n",
       "      <td>Southampton</td>\n",
       "      <td>1</td>\n",
       "      <td>0</td>\n",
       "      <td>Home win</td>\n",
       "      <td>1</td>\n",
       "      <td>0</td>\n",
       "      <td>...</td>\n",
       "      <td>1.70</td>\n",
       "      <td>0.25</td>\n",
       "      <td>1.78</td>\n",
       "      <td>2.13</td>\n",
       "      <td>1.79</td>\n",
       "      <td>2.17</td>\n",
       "      <td>1.85</td>\n",
       "      <td>2.18</td>\n",
       "      <td>1.79</td>\n",
       "      <td>2.12</td>\n",
       "    </tr>\n",
       "    <tr>\n",
       "      <th>2</th>\n",
       "      <td>E0</td>\n",
       "      <td>2020-09-12</td>\n",
       "      <td>17:30</td>\n",
       "      <td>Liverpool</td>\n",
       "      <td>Leeds</td>\n",
       "      <td>4</td>\n",
       "      <td>3</td>\n",
       "      <td>Home win</td>\n",
       "      <td>3</td>\n",
       "      <td>2</td>\n",
       "      <td>...</td>\n",
       "      <td>2.62</td>\n",
       "      <td>-1.50</td>\n",
       "      <td>1.85</td>\n",
       "      <td>2.05</td>\n",
       "      <td>1.85</td>\n",
       "      <td>2.08</td>\n",
       "      <td>1.90</td>\n",
       "      <td>2.16</td>\n",
       "      <td>1.84</td>\n",
       "      <td>2.04</td>\n",
       "    </tr>\n",
       "    <tr>\n",
       "      <th>3</th>\n",
       "      <td>E0</td>\n",
       "      <td>2020-09-12</td>\n",
       "      <td>20:00</td>\n",
       "      <td>West Ham</td>\n",
       "      <td>Newcastle</td>\n",
       "      <td>0</td>\n",
       "      <td>2</td>\n",
       "      <td>Away win</td>\n",
       "      <td>0</td>\n",
       "      <td>0</td>\n",
       "      <td>...</td>\n",
       "      <td>1.92</td>\n",
       "      <td>-0.50</td>\n",
       "      <td>2.03</td>\n",
       "      <td>1.87</td>\n",
       "      <td>2.04</td>\n",
       "      <td>1.88</td>\n",
       "      <td>2.09</td>\n",
       "      <td>1.91</td>\n",
       "      <td>2.02</td>\n",
       "      <td>1.86</td>\n",
       "    </tr>\n",
       "    <tr>\n",
       "      <th>4</th>\n",
       "      <td>E0</td>\n",
       "      <td>2020-09-13</td>\n",
       "      <td>14:00</td>\n",
       "      <td>West Brom</td>\n",
       "      <td>Leicester</td>\n",
       "      <td>0</td>\n",
       "      <td>3</td>\n",
       "      <td>Away win</td>\n",
       "      <td>0</td>\n",
       "      <td>0</td>\n",
       "      <td>...</td>\n",
       "      <td>1.73</td>\n",
       "      <td>0.25</td>\n",
       "      <td>1.92</td>\n",
       "      <td>1.98</td>\n",
       "      <td>1.93</td>\n",
       "      <td>1.99</td>\n",
       "      <td>1.95</td>\n",
       "      <td>2.01</td>\n",
       "      <td>1.91</td>\n",
       "      <td>1.97</td>\n",
       "    </tr>\n",
       "    <tr>\n",
       "      <th>...</th>\n",
       "      <td>...</td>\n",
       "      <td>...</td>\n",
       "      <td>...</td>\n",
       "      <td>...</td>\n",
       "      <td>...</td>\n",
       "      <td>...</td>\n",
       "      <td>...</td>\n",
       "      <td>...</td>\n",
       "      <td>...</td>\n",
       "      <td>...</td>\n",
       "      <td>...</td>\n",
       "      <td>...</td>\n",
       "      <td>...</td>\n",
       "      <td>...</td>\n",
       "      <td>...</td>\n",
       "      <td>...</td>\n",
       "      <td>...</td>\n",
       "      <td>...</td>\n",
       "      <td>...</td>\n",
       "      <td>...</td>\n",
       "      <td>...</td>\n",
       "    </tr>\n",
       "    <tr>\n",
       "      <th>220</th>\n",
       "      <td>E0</td>\n",
       "      <td>2021-02-07</td>\n",
       "      <td>12:00</td>\n",
       "      <td>Tottenham</td>\n",
       "      <td>West Brom</td>\n",
       "      <td>2</td>\n",
       "      <td>0</td>\n",
       "      <td>Home win</td>\n",
       "      <td>0</td>\n",
       "      <td>0</td>\n",
       "      <td>...</td>\n",
       "      <td>2.19</td>\n",
       "      <td>-1.25</td>\n",
       "      <td>1.91</td>\n",
       "      <td>2.02</td>\n",
       "      <td>1.93</td>\n",
       "      <td>2.00</td>\n",
       "      <td>2.02</td>\n",
       "      <td>2.15</td>\n",
       "      <td>1.88</td>\n",
       "      <td>2.01</td>\n",
       "    </tr>\n",
       "    <tr>\n",
       "      <th>221</th>\n",
       "      <td>E0</td>\n",
       "      <td>2021-02-07</td>\n",
       "      <td>14:00</td>\n",
       "      <td>Wolves</td>\n",
       "      <td>Leicester</td>\n",
       "      <td>0</td>\n",
       "      <td>0</td>\n",
       "      <td>Draw</td>\n",
       "      <td>0</td>\n",
       "      <td>0</td>\n",
       "      <td>...</td>\n",
       "      <td>1.64</td>\n",
       "      <td>0.25</td>\n",
       "      <td>1.93</td>\n",
       "      <td>1.97</td>\n",
       "      <td>1.96</td>\n",
       "      <td>1.96</td>\n",
       "      <td>1.99</td>\n",
       "      <td>2.03</td>\n",
       "      <td>1.92</td>\n",
       "      <td>1.96</td>\n",
       "    </tr>\n",
       "    <tr>\n",
       "      <th>222</th>\n",
       "      <td>E0</td>\n",
       "      <td>2021-02-07</td>\n",
       "      <td>16:30</td>\n",
       "      <td>Liverpool</td>\n",
       "      <td>Man City</td>\n",
       "      <td>1</td>\n",
       "      <td>4</td>\n",
       "      <td>Away win</td>\n",
       "      <td>0</td>\n",
       "      <td>0</td>\n",
       "      <td>...</td>\n",
       "      <td>2.12</td>\n",
       "      <td>0.25</td>\n",
       "      <td>1.92</td>\n",
       "      <td>2.01</td>\n",
       "      <td>1.93</td>\n",
       "      <td>2.00</td>\n",
       "      <td>2.02</td>\n",
       "      <td>2.03</td>\n",
       "      <td>1.92</td>\n",
       "      <td>1.97</td>\n",
       "    </tr>\n",
       "    <tr>\n",
       "      <th>223</th>\n",
       "      <td>E0</td>\n",
       "      <td>2021-02-07</td>\n",
       "      <td>19:15</td>\n",
       "      <td>Sheffield United</td>\n",
       "      <td>Chelsea</td>\n",
       "      <td>1</td>\n",
       "      <td>2</td>\n",
       "      <td>Away win</td>\n",
       "      <td>0</td>\n",
       "      <td>1</td>\n",
       "      <td>...</td>\n",
       "      <td>1.87</td>\n",
       "      <td>1.00</td>\n",
       "      <td>2.01</td>\n",
       "      <td>1.92</td>\n",
       "      <td>1.99</td>\n",
       "      <td>1.93</td>\n",
       "      <td>2.10</td>\n",
       "      <td>1.96</td>\n",
       "      <td>2.02</td>\n",
       "      <td>1.86</td>\n",
       "    </tr>\n",
       "    <tr>\n",
       "      <th>224</th>\n",
       "      <td>E0</td>\n",
       "      <td>2021-02-08</td>\n",
       "      <td>20:00</td>\n",
       "      <td>Leeds</td>\n",
       "      <td>Crystal Palace</td>\n",
       "      <td>2</td>\n",
       "      <td>0</td>\n",
       "      <td>Home win</td>\n",
       "      <td>1</td>\n",
       "      <td>0</td>\n",
       "      <td>...</td>\n",
       "      <td>1.97</td>\n",
       "      <td>-0.75</td>\n",
       "      <td>2.05</td>\n",
       "      <td>1.88</td>\n",
       "      <td>2.05</td>\n",
       "      <td>1.88</td>\n",
       "      <td>2.10</td>\n",
       "      <td>1.89</td>\n",
       "      <td>2.05</td>\n",
       "      <td>1.84</td>\n",
       "    </tr>\n",
       "  </tbody>\n",
       "</table>\n",
       "<p>225 rows × 106 columns</p>\n",
       "</div>"
      ],
      "text/plain": [
       "    Div       Date   Time          HomeTeam        AwayTeam  FTHG  FTAG  \\\n",
       "0    E0 2020-09-12  12:30            Fulham         Arsenal     0     3   \n",
       "1    E0 2020-09-12  15:00    Crystal Palace     Southampton     1     0   \n",
       "2    E0 2020-09-12  17:30         Liverpool           Leeds     4     3   \n",
       "3    E0 2020-09-12  20:00          West Ham       Newcastle     0     2   \n",
       "4    E0 2020-09-13  14:00         West Brom       Leicester     0     3   \n",
       "..   ..        ...    ...               ...             ...   ...   ...   \n",
       "220  E0 2021-02-07  12:00         Tottenham       West Brom     2     0   \n",
       "221  E0 2021-02-07  14:00            Wolves       Leicester     0     0   \n",
       "222  E0 2021-02-07  16:30         Liverpool        Man City     1     4   \n",
       "223  E0 2021-02-07  19:15  Sheffield United         Chelsea     1     2   \n",
       "224  E0 2021-02-08  20:00             Leeds  Crystal Palace     2     0   \n",
       "\n",
       "          FTR  HTHG  HTAG  ... AvgC<2.5  AHCh  B365CAHH  B365CAHA  PCAHH  \\\n",
       "0    Away win     0     1  ...     1.84  0.75      2.01      1.89   2.02   \n",
       "1    Home win     1     0  ...     1.70  0.25      1.78      2.13   1.79   \n",
       "2    Home win     3     2  ...     2.62 -1.50      1.85      2.05   1.85   \n",
       "3    Away win     0     0  ...     1.92 -0.50      2.03      1.87   2.04   \n",
       "4    Away win     0     0  ...     1.73  0.25      1.92      1.98   1.93   \n",
       "..        ...   ...   ...  ...      ...   ...       ...       ...    ...   \n",
       "220  Home win     0     0  ...     2.19 -1.25      1.91      2.02   1.93   \n",
       "221      Draw     0     0  ...     1.64  0.25      1.93      1.97   1.96   \n",
       "222  Away win     0     0  ...     2.12  0.25      1.92      2.01   1.93   \n",
       "223  Away win     0     1  ...     1.87  1.00      2.01      1.92   1.99   \n",
       "224  Home win     1     0  ...     1.97 -0.75      2.05      1.88   2.05   \n",
       "\n",
       "     PCAHA  MaxCAHH  MaxCAHA  AvgCAHH  AvgCAHA  \n",
       "0     1.91     2.13     1.92     2.02     1.87  \n",
       "1     2.17     1.85     2.18     1.79     2.12  \n",
       "2     2.08     1.90     2.16     1.84     2.04  \n",
       "3     1.88     2.09     1.91     2.02     1.86  \n",
       "4     1.99     1.95     2.01     1.91     1.97  \n",
       "..     ...      ...      ...      ...      ...  \n",
       "220   2.00     2.02     2.15     1.88     2.01  \n",
       "221   1.96     1.99     2.03     1.92     1.96  \n",
       "222   2.00     2.02     2.03     1.92     1.97  \n",
       "223   1.93     2.10     1.96     2.02     1.86  \n",
       "224   1.88     2.10     1.89     2.05     1.84  \n",
       "\n",
       "[225 rows x 106 columns]"
      ]
     },
     "execution_count": 6,
     "metadata": {},
     "output_type": "execute_result"
    }
   ],
   "source": [
    "df"
   ]
  },
  {
   "cell_type": "markdown",
   "metadata": {},
   "source": [
    "## VARIABLES, FUNCTIONS"
   ]
  },
  {
   "cell_type": "code",
   "execution_count": 7,
   "metadata": {
    "ExecuteTime": {
     "end_time": "2021-02-15T22:31:32.667782Z",
     "start_time": "2021-02-15T22:31:32.655810Z"
    }
   },
   "outputs": [],
   "source": [
    "# CACHED VARIABLES\n",
    "home_team = df['HomeTeam']\n",
    "away_team = df['AwayTeam']\n",
    "home_goals = df['FTHG']\n",
    "away_goals = df['FTAG']"
   ]
  },
  {
   "cell_type": "code",
   "execution_count": 8,
   "metadata": {
    "ExecuteTime": {
     "end_time": "2021-02-15T22:31:32.699692Z",
     "start_time": "2021-02-15T22:31:32.671767Z"
    }
   },
   "outputs": [],
   "source": [
    "# FUNCTIONS\n",
    "def HomeAppearances(team):\n",
    "    home_appearances = (home_team == team).sum()\n",
    "    return home_appearances\n",
    "\n",
    "def HomeWins(team):\n",
    "    home_wins = ( (home_team == team) & (home_goals > away_goals) ).sum()\n",
    "    return home_wins\n",
    "\n",
    "def HomeDraws(team):\n",
    "    home_draws = ( (home_team == team) & (home_goals == away_goals) ).sum()\n",
    "    return home_draws\n",
    "\n",
    "def HomeLosses(team):\n",
    "    home_losses = ( (home_team == team) & (home_goals < away_goals) ).sum()\n",
    "    return home_losses\n",
    "\n",
    "def HomeFor(team):\n",
    "    home_for = df[home_team == team]['FTHG'].sum()\n",
    "    return home_for\n",
    "\n",
    "def HomeAgainst(team):\n",
    "    home_against = df[home_team == team]['FTAG'].sum()\n",
    "    return home_against\n",
    "\n",
    "def AwayAppearances(team):\n",
    "    away_appearances = (away_team == team).sum()\n",
    "    return away_appearances\n",
    "\n",
    "def AwayWins(team):\n",
    "    away_wins = ( (away_team == team) & (home_goals < away_goals) ).sum()\n",
    "    return away_wins\n",
    "\n",
    "def AwayDraws(team):\n",
    "    away_draws = ( (away_team == team) & (home_goals == away_goals) ).sum()\n",
    "    return away_draws\n",
    "\n",
    "def AwayLosses(team):\n",
    "    away_losses = ( (away_team == team) & (home_goals > away_goals) ).sum()\n",
    "    return away_losses\n",
    "\n",
    "def AwayFor(team):\n",
    "    away_for = df[away_team == team]['FTAG'].sum()\n",
    "    return away_for\n",
    "\n",
    "def AwayAgainst(team):\n",
    "    away_against = df[away_team == team]['FTHG'].sum()\n",
    "    return away_against\n",
    "\n",
    "def SumHomeColumn(team, col):\n",
    "    home_sum = df[df['HomeTeam'] == team][col].sum()\n",
    "    return home_sum\n",
    "    \n",
    "def SumAwayColumn(team, col):\n",
    "    away_sum = df[df['AwayTeam'] == team][col].sum()\n",
    "    return away_sum"
   ]
  },
  {
   "cell_type": "code",
   "execution_count": 9,
   "metadata": {
    "ExecuteTime": {
     "end_time": "2021-02-15T22:31:32.715683Z",
     "start_time": "2021-02-15T22:31:32.701686Z"
    }
   },
   "outputs": [
    {
     "data": {
      "text/plain": [
       "0       True\n",
       "1      False\n",
       "2      False\n",
       "3      False\n",
       "4      False\n",
       "       ...  \n",
       "220    False\n",
       "221    False\n",
       "222    False\n",
       "223    False\n",
       "224    False\n",
       "Name: HomeTeam, Length: 225, dtype: bool"
      ]
     },
     "execution_count": 9,
     "metadata": {},
     "output_type": "execute_result"
    }
   ],
   "source": [
    "# TEST FUNCTIONS\n",
    "home_sum = SumHomeColumn('Fulham', 'HS')\n",
    "home_sum\n",
    "home_team == 'Fulham'"
   ]
  },
  {
   "cell_type": "code",
   "execution_count": 10,
   "metadata": {
    "ExecuteTime": {
     "end_time": "2021-02-15T22:31:32.731607Z",
     "start_time": "2021-02-15T22:31:32.717644Z"
    }
   },
   "outputs": [
    {
     "data": {
      "text/plain": [
       "0      False\n",
       "1      False\n",
       "2      False\n",
       "3      False\n",
       "4      False\n",
       "       ...  \n",
       "220    False\n",
       "221    False\n",
       "222    False\n",
       "223    False\n",
       "224    False\n",
       "Name: HomeTeam, Length: 225, dtype: bool"
      ]
     },
     "execution_count": 10,
     "metadata": {},
     "output_type": "execute_result"
    }
   ],
   "source": [
    "home_team == True"
   ]
  },
  {
   "cell_type": "markdown",
   "metadata": {},
   "source": [
    "## METADATA"
   ]
  },
  {
   "cell_type": "code",
   "execution_count": 11,
   "metadata": {
    "ExecuteTime": {
     "end_time": "2021-02-15T22:31:32.747566Z",
     "start_time": "2021-02-15T22:31:32.734613Z"
    },
    "scrolled": true
   },
   "outputs": [
    {
     "data": {
      "text/plain": [
       "array(['Fulham', 'Crystal Palace', 'Liverpool', 'West Ham', 'West Brom',\n",
       "       'Tottenham', 'Brighton', 'Sheffield United', 'Everton', 'Leeds',\n",
       "       'Man United', 'Arsenal', 'Southampton', 'Newcastle', 'Chelsea',\n",
       "       'Leicester', 'Aston Villa', 'Wolves', 'Burnley', 'Man City'],\n",
       "      dtype=object)"
      ]
     },
     "execution_count": 11,
     "metadata": {},
     "output_type": "execute_result"
    }
   ],
   "source": [
    "# GET LIST OF TEAMS\n",
    "teams = pd.unique(home_team.append(away_team))\n",
    "num_teams = teams.size\n",
    "teams"
   ]
  },
  {
   "cell_type": "code",
   "execution_count": 12,
   "metadata": {
    "ExecuteTime": {
     "end_time": "2021-02-15T22:31:32.763559Z",
     "start_time": "2021-02-15T22:31:32.750568Z"
    }
   },
   "outputs": [
    {
     "name": "stdout",
     "output_type": "stream",
     "text": [
      "There are 74 dates\n"
     ]
    }
   ],
   "source": [
    "# DATES\n",
    "dates = pd.unique(df_original['Date'])\n",
    "num_dates = dates.size\n",
    "print(f'There are {num_dates} dates')"
   ]
  },
  {
   "cell_type": "code",
   "execution_count": 13,
   "metadata": {
    "ExecuteTime": {
     "end_time": "2021-02-15T22:31:32.794948Z",
     "start_time": "2021-02-15T22:31:32.766514Z"
    },
    "scrolled": true
   },
   "outputs": [
    {
     "name": "stdout",
     "output_type": "stream",
     "text": [
      "Dates are in chronological order: True\n"
     ]
    }
   ],
   "source": [
    "# VERIFY DATES ARE CHRONOLOGICAL\n",
    "df_date_changes = df[df['Date'].astype(\"int64\").diff() != 0]\n",
    "df_date_changes\n",
    "print(f'Dates are in chronological order: {num_dates == df_date_changes.shape[0]}')"
   ]
  },
  {
   "cell_type": "markdown",
   "metadata": {},
   "source": [
    "# AGGREGATED STATISTICS <a class=\"anchor\" id=\"aggregated\"></a>"
   ]
  },
  {
   "cell_type": "code",
   "execution_count": 14,
   "metadata": {
    "ExecuteTime": {
     "end_time": "2021-02-15T22:31:32.826863Z",
     "start_time": "2021-02-15T22:31:32.797944Z"
    }
   },
   "outputs": [
    {
     "data": {
      "text/plain": [
       "0    18\n",
       "1    46\n",
       "2    52\n",
       "3    48\n",
       "4    25\n",
       "5    16\n",
       "6     8\n",
       "7     9\n",
       "8     1\n",
       "9     2\n",
       "dtype: int64"
      ]
     },
     "execution_count": 14,
     "metadata": {},
     "output_type": "execute_result"
    }
   ],
   "source": [
    "# COUNTS: GOALS\n",
    "counts_home_goals = df['FTHG'].value_counts().sort_index()\n",
    "total_home_goals = df['FTHG'].sum()\n",
    "counts_away_goals = df['FTAG'].value_counts().sort_index()\n",
    "total_away_goals = df['FTAG'].sum()\n",
    "total_goals = (df['FTHG'] + df['FTAG']).sum()\n",
    "counts_goals = (df['FTHG'] + df['FTAG']).value_counts().sort_index()\n",
    "total_goals\n",
    "counts_goals"
   ]
  },
  {
   "cell_type": "code",
   "execution_count": 15,
   "metadata": {
    "ExecuteTime": {
     "end_time": "2021-02-15T22:31:32.842821Z",
     "start_time": "2021-02-15T22:31:32.828858Z"
    }
   },
   "outputs": [
    {
     "data": {
      "text/plain": [
       "Away win    90\n",
       "Home win    83\n",
       "Draw        52\n",
       "Name: FTR, dtype: int64"
      ]
     },
     "execution_count": 15,
     "metadata": {},
     "output_type": "execute_result"
    }
   ],
   "source": [
    "# COUNTS: RESULTS\n",
    "counts_result = df['FTR'].value_counts()\n",
    "counts_result"
   ]
  },
  {
   "cell_type": "code",
   "execution_count": 16,
   "metadata": {
    "ExecuteTime": {
     "end_time": "2021-02-15T22:31:32.858778Z",
     "start_time": "2021-02-15T22:31:32.844816Z"
    }
   },
   "outputs": [
    {
     "data": {
      "text/plain": [
       "20:00    47\n",
       "17:30    27\n",
       "15:00    24\n",
       "18:00    23\n",
       "12:30    18\n",
       "16:30    18\n",
       "19:15    15\n",
       "20:15    15\n",
       "14:00    14\n",
       "12:00    14\n",
       "14:15     5\n",
       "19:00     2\n",
       "19:30     2\n",
       "17:45     1\n",
       "Name: Time, dtype: int64"
      ]
     },
     "execution_count": 16,
     "metadata": {},
     "output_type": "execute_result"
    }
   ],
   "source": [
    "# KICK-OFF COUNTS\n",
    "counts_kickoff = df['Time'].value_counts()\n",
    "counts_kickoff"
   ]
  },
  {
   "cell_type": "code",
   "execution_count": 17,
   "metadata": {
    "ExecuteTime": {
     "end_time": "2021-02-15T22:31:32.874734Z",
     "start_time": "2021-02-15T22:31:32.860773Z"
    },
    "scrolled": true
   },
   "outputs": [
    {
     "data": {
      "text/plain": [
       "M Atkinson    18\n",
       "M Oliver      17\n",
       "M Dean        15\n",
       "A Taylor      15\n",
       "C Kavanagh    14\n",
       "P Tierney     14\n",
       "A Marriner    14\n",
       "K Friend      14\n",
       "C Pawson      13\n",
       "S Attwell     13\n",
       "J Moss        13\n",
       "D Coote       11\n",
       "G Scott        9\n",
       "A Madley       9\n",
       "P Bankes       9\n",
       "L Mason        9\n",
       "S Hooper       7\n",
       "D England      6\n",
       "R Jones        5\n",
       "Name: Referee, dtype: int64"
      ]
     },
     "execution_count": 17,
     "metadata": {},
     "output_type": "execute_result"
    }
   ],
   "source": [
    "# REFEREE COUNTS\n",
    "counts_referee = df['Referee'].value_counts()\n",
    "counts_referee"
   ]
  },
  {
   "cell_type": "markdown",
   "metadata": {},
   "source": [
    "# LEAGUE TABLE <a class=\"anchor\" id=\"league-table\"></a>"
   ]
  },
  {
   "cell_type": "markdown",
   "metadata": {},
   "source": [
    "## CALCULATE FIGURES"
   ]
  },
  {
   "cell_type": "code",
   "execution_count": 18,
   "metadata": {
    "ExecuteTime": {
     "end_time": "2021-02-15T22:31:32.889696Z",
     "start_time": "2021-02-15T22:31:32.876731Z"
    }
   },
   "outputs": [
    {
     "data": {
      "text/plain": [
       "12"
      ]
     },
     "execution_count": 18,
     "metadata": {},
     "output_type": "execute_result"
    }
   ],
   "source": [
    "# COUNT NUMBER OF HOME APPEARANCES FOR A TEAM\n",
    "team = teams[0]\n",
    "appearances = (home_team == team).sum()\n",
    "appearances"
   ]
  },
  {
   "cell_type": "code",
   "execution_count": 19,
   "metadata": {
    "ExecuteTime": {
     "end_time": "2021-02-15T22:31:32.905653Z",
     "start_time": "2021-02-15T22:31:32.891690Z"
    }
   },
   "outputs": [
    {
     "data": {
      "text/plain": [
       "1"
      ]
     },
     "execution_count": 19,
     "metadata": {},
     "output_type": "execute_result"
    }
   ],
   "source": [
    "# COUNT NUMBER OF HOME WINS FOR A TEAM\n",
    "home_wins = ( (home_team == team) & (home_goals > away_goals) ).sum()\n",
    "home_wins"
   ]
  },
  {
   "cell_type": "code",
   "execution_count": 20,
   "metadata": {
    "ExecuteTime": {
     "end_time": "2021-02-15T22:31:32.921611Z",
     "start_time": "2021-02-15T22:31:32.908646Z"
    }
   },
   "outputs": [
    {
     "data": {
      "text/plain": [
       "4"
      ]
     },
     "execution_count": 20,
     "metadata": {},
     "output_type": "execute_result"
    }
   ],
   "source": [
    "# COUNT NUMBER OF HOME DRAWS FOR A TEAM\n",
    "home_draws = ( (home_team == team) & (home_goals == away_goals) ).sum()\n",
    "home_draws"
   ]
  },
  {
   "cell_type": "code",
   "execution_count": 21,
   "metadata": {
    "ExecuteTime": {
     "end_time": "2021-02-15T22:31:32.936569Z",
     "start_time": "2021-02-15T22:31:32.923606Z"
    }
   },
   "outputs": [
    {
     "data": {
      "text/plain": [
       "7"
      ]
     },
     "execution_count": 21,
     "metadata": {},
     "output_type": "execute_result"
    }
   ],
   "source": [
    "# COUNT NUMBER OF HOME WINS FOR A TEAM\n",
    "home_losses = ( (home_team == team) & (home_goals < away_goals) ).sum()\n",
    "home_losses"
   ]
  },
  {
   "cell_type": "code",
   "execution_count": 22,
   "metadata": {
    "ExecuteTime": {
     "end_time": "2021-02-15T22:31:32.952531Z",
     "start_time": "2021-02-15T22:31:32.942554Z"
    }
   },
   "outputs": [
    {
     "data": {
      "text/plain": [
       "7"
      ]
     },
     "execution_count": 22,
     "metadata": {},
     "output_type": "execute_result"
    }
   ],
   "source": [
    "# COUNT NUMBER OF HOME GOALS SCORED\n",
    "home_for = df[home_team == teams[0]]['FTHG'].sum()\n",
    "home_for"
   ]
  },
  {
   "cell_type": "code",
   "execution_count": 23,
   "metadata": {
    "ExecuteTime": {
     "end_time": "2021-02-15T22:31:32.968485Z",
     "start_time": "2021-02-15T22:31:32.956517Z"
    }
   },
   "outputs": [
    {
     "data": {
      "text/plain": [
       "17"
      ]
     },
     "execution_count": 23,
     "metadata": {},
     "output_type": "execute_result"
    }
   ],
   "source": [
    "# COUNT NUMBER OF HOME GOALS CONCEDED\n",
    "home_against = df[home_team == teams[0]]['FTAG'].sum()\n",
    "home_against"
   ]
  },
  {
   "cell_type": "markdown",
   "metadata": {},
   "source": [
    "## CONSTRUCT TABLE"
   ]
  },
  {
   "cell_type": "code",
   "execution_count": 24,
   "metadata": {
    "ExecuteTime": {
     "end_time": "2021-02-15T22:31:33.172972Z",
     "start_time": "2021-02-15T22:31:32.970478Z"
    }
   },
   "outputs": [],
   "source": [
    "# CONSTRUCT LEAGUE TABLE WITHOUT POSITION\n",
    "league_table = []\n",
    "for j in range(0, num_teams):\n",
    "    home_appearances = HomeAppearances(teams[j])\n",
    "    home_wins = HomeWins(teams[j])\n",
    "    home_draws = HomeDraws(teams[j])\n",
    "    home_losses = HomeLosses(teams[j])\n",
    "    home_for = HomeFor(teams[j])\n",
    "    home_against = HomeAgainst(teams[j])\n",
    "    home_diff = home_for - home_against\n",
    "    home_points = 3*home_wins + home_draws\n",
    "    away_appearances = AwayAppearances(teams[j])\n",
    "    away_wins = AwayWins(teams[j])\n",
    "    away_draws = AwayDraws(teams[j])\n",
    "    away_losses = AwayLosses(teams[j])\n",
    "    away_for = AwayFor(teams[j])\n",
    "    away_against = AwayAgainst(teams[j])\n",
    "    away_diff = away_for - away_against\n",
    "    away_points = 3*away_wins + away_draws\n",
    "    appearances = home_appearances + away_appearances\n",
    "    wins = home_wins + away_wins\n",
    "    draws = home_draws + away_draws\n",
    "    losses = home_losses + away_losses\n",
    "    goals_for = home_for + away_for\n",
    "    goals_against = home_against + away_against\n",
    "    diff = goals_for - goals_against\n",
    "    points = 3*wins + draws\n",
    "    \n",
    "    row_table = ['', teams[j], appearances, wins, draws, losses, goals_for, goals_against, diff, points, \\\n",
    "                home_appearances, home_wins, home_draws, home_losses, home_for, home_against, home_diff, home_points, \\\n",
    "                away_appearances, away_wins, away_draws, away_losses, away_for, away_against, away_diff, away_points]\n",
    "    league_table.append(row_table)"
   ]
  },
  {
   "cell_type": "code",
   "execution_count": 25,
   "metadata": {
    "ExecuteTime": {
     "end_time": "2021-02-15T22:31:33.188897Z",
     "start_time": "2021-02-15T22:31:33.174933Z"
    }
   },
   "outputs": [],
   "source": [
    "# CONVERT TO NUMPY ARRAY\n",
    "league_table = np.asarray(league_table)"
   ]
  },
  {
   "cell_type": "code",
   "execution_count": 26,
   "metadata": {
    "ExecuteTime": {
     "end_time": "2021-02-15T22:31:33.203856Z",
     "start_time": "2021-02-15T22:31:33.190892Z"
    },
    "scrolled": true
   },
   "outputs": [
    {
     "data": {
      "text/plain": [
       "array([['', 'Man City', '22', '15', '5', '2', '43', '14', '29', '50',\n",
       "        '11', '8', '2', '1', '22', '7', '15', '26', '11', '7', '3', '1',\n",
       "        '21', '7', '14', '24'],\n",
       "       ['', 'Man United', '23', '13', '6', '4', '49', '30', '19', '45',\n",
       "        '12', '5', '3', '4', '25', '18', '7', '18', '11', '8', '3', '0',\n",
       "        '24', '12', '12', '27'],\n",
       "       ['', 'Leicester', '23', '13', '4', '6', '39', '25', '14', '43',\n",
       "        '11', '5', '1', '5', '16', '15', '1', '16', '12', '8', '3', '1',\n",
       "        '23', '10', '13', '27'],\n",
       "       ['', 'Liverpool', '23', '11', '7', '5', '44', '29', '15', '40',\n",
       "        '12', '7', '2', '3', '22', '14', '8', '23', '11', '4', '5', '2',\n",
       "        '22', '15', '7', '17'],\n",
       "       ['', 'Chelsea', '23', '11', '6', '6', '38', '24', '14', '39',\n",
       "        '11', '5', '4', '2', '21', '11', '10', '19', '12', '6', '2', '4',\n",
       "        '17', '13', '4', '20'],\n",
       "       ['', 'West Ham', '23', '11', '6', '6', '34', '28', '6', '39',\n",
       "        '11', '5', '3', '3', '16', '14', '2', '18', '12', '6', '3', '3',\n",
       "        '18', '14', '4', '21'],\n",
       "       ['', 'Everton', '21', '11', '4', '6', '34', '28', '6', '37', '10',\n",
       "        '4', '2', '4', '16', '15', '1', '14', '11', '7', '2', '2', '18',\n",
       "        '13', '5', '23'],\n",
       "       ['', 'Tottenham', '22', '10', '6', '6', '36', '22', '14', '36',\n",
       "        '12', '5', '3', '4', '17', '13', '4', '18', '10', '5', '3', '2',\n",
       "        '19', '9', '10', '18'],\n",
       "       ['', 'Aston Villa', '21', '11', '2', '8', '36', '24', '12', '35',\n",
       "        '10', '5', '1', '4', '19', '14', '5', '16', '11', '6', '1', '4',\n",
       "        '17', '10', '7', '19'],\n",
       "       ['', 'Leeds', '22', '10', '2', '10', '38', '38', '0', '32', '11',\n",
       "        '4', '2', '5', '16', '16', '0', '14', '11', '6', '0', '5', '22',\n",
       "        '22', '0', '18'],\n",
       "       ['', 'Arsenal', '23', '9', '4', '10', '27', '23', '4', '31', '11',\n",
       "        '4', '3', '4', '12', '11', '1', '15', '12', '5', '1', '6', '15',\n",
       "        '12', '3', '16'],\n",
       "       ['', 'Southampton', '22', '8', '5', '9', '29', '37', '-8', '29',\n",
       "        '11', '5', '1', '5', '15', '13', '2', '16', '11', '3', '4', '4',\n",
       "        '14', '24', '-10', '13'],\n",
       "       ['', 'Crystal Palace', '23', '8', '5', '10', '27', '39', '-12',\n",
       "        '29', '11', '4', '3', '4', '14', '18', '-4', '15', '12', '4',\n",
       "        '2', '6', '13', '21', '-8', '14'],\n",
       "       ['', 'Wolves', '23', '7', '6', '10', '23', '31', '-8', '27', '12',\n",
       "        '4', '4', '4', '14', '14', '0', '16', '11', '3', '2', '6', '9',\n",
       "        '17', '-8', '11'],\n",
       "       ['', 'Brighton', '23', '5', '10', '8', '25', '30', '-5', '25',\n",
       "        '11', '1', '6', '4', '11', '15', '-4', '9', '12', '4', '4', '4',\n",
       "        '14', '15', '-1', '16'],\n",
       "       ['', 'Newcastle', '23', '7', '4', '12', '25', '38', '-13', '25',\n",
       "        '12', '4', '2', '6', '15', '21', '-6', '14', '11', '3', '2', '6',\n",
       "        '10', '17', '-7', '11'],\n",
       "       ['', 'Burnley', '22', '6', '5', '11', '14', '29', '-15', '23',\n",
       "        '11', '4', '2', '5', '9', '13', '-4', '14', '11', '2', '3', '6',\n",
       "        '5', '16', '-11', '9'],\n",
       "       ['', 'Fulham', '22', '2', '9', '11', '17', '31', '-14', '15',\n",
       "        '12', '1', '4', '7', '7', '17', '-10', '7', '10', '1', '5', '4',\n",
       "        '10', '14', '-4', '8'],\n",
       "       ['', 'West Brom', '23', '2', '6', '15', '18', '54', '-36', '12',\n",
       "        '11', '1', '3', '7', '7', '31', '-24', '6', '12', '1', '3', '8',\n",
       "        '11', '23', '-12', '6'],\n",
       "       ['', 'Sheffield United', '23', '3', '2', '18', '15', '37', '-22',\n",
       "        '11', '12', '2', '1', '9', '9', '18', '-9', '7', '11', '1', '1',\n",
       "        '9', '6', '19', '-13', '4']], dtype='<U16')"
      ]
     },
     "execution_count": 26,
     "metadata": {},
     "output_type": "execute_result"
    }
   ],
   "source": [
    "# SORT TABLE BY DESCENDING POINTS\n",
    "idx_points = league_table[:, col_points].argsort()[::-1]\n",
    "league_table = league_table[idx_points]\n",
    "league_table"
   ]
  },
  {
   "cell_type": "code",
   "execution_count": 27,
   "metadata": {
    "ExecuteTime": {
     "end_time": "2021-02-15T22:31:33.219813Z",
     "start_time": "2021-02-15T22:31:33.205850Z"
    },
    "scrolled": false
   },
   "outputs": [],
   "source": [
    "# ADD POSITION, DEAL WITH TIES\n",
    "# Points, the goal difference, then goals scored. Then tied\n",
    "j = 0\n",
    "while j < teams.size-1: # Selection sort needs to be implemented a min of n-1 times\n",
    "    for i in range(0, num_teams-1):\n",
    "        if league_table[i][col_points] == league_table[i+1][col_points]:\n",
    "            if league_table[i][col_diff] == league_table[i+1][col_diff]:\n",
    "                if league_table[i][col_for] == league_table[i+1][col_for]:\n",
    "                    league_table[i][0] = i+1 # both have same position\n",
    "                    league_table[i+1][0] = i+1\n",
    "                elif int(league_table[i][col_for]) > int(league_table[i+1][col_for]):\n",
    "                    league_table[i][0] = i+1\n",
    "                    league_table[i+1][0] = i+2\n",
    "            elif int(league_table[i][col_diff]) > int(league_table[i+1][col_diff]):\n",
    "                league_table[i][0] = i+1\n",
    "                league_table[i+1][0] = i+2\n",
    "        if int(league_table[i][col_points]) > int(league_table[i+1][col_points]):\n",
    "            league_table[i][0] = i+1\n",
    "            league_table[i+1][0] = i+2\n",
    "    j += 1"
   ]
  },
  {
   "cell_type": "code",
   "execution_count": 28,
   "metadata": {
    "ExecuteTime": {
     "end_time": "2021-02-15T22:31:33.235806Z",
     "start_time": "2021-02-15T22:31:33.221808Z"
    }
   },
   "outputs": [
    {
     "data": {
      "text/plain": [
       "array([['1', 'Man City', '22', '15', '5', '2', '43', '14', '29', '50',\n",
       "        '11', '8', '2', '1', '22', '7', '15', '26', '11', '7', '3', '1',\n",
       "        '21', '7', '14', '24'],\n",
       "       ['2', 'Man United', '23', '13', '6', '4', '49', '30', '19', '45',\n",
       "        '12', '5', '3', '4', '25', '18', '7', '18', '11', '8', '3', '0',\n",
       "        '24', '12', '12', '27'],\n",
       "       ['3', 'Leicester', '23', '13', '4', '6', '39', '25', '14', '43',\n",
       "        '11', '5', '1', '5', '16', '15', '1', '16', '12', '8', '3', '1',\n",
       "        '23', '10', '13', '27'],\n",
       "       ['4', 'Liverpool', '23', '11', '7', '5', '44', '29', '15', '40',\n",
       "        '12', '7', '2', '3', '22', '14', '8', '23', '11', '4', '5', '2',\n",
       "        '22', '15', '7', '17'],\n",
       "       ['5', 'Chelsea', '23', '11', '6', '6', '38', '24', '14', '39',\n",
       "        '11', '5', '4', '2', '21', '11', '10', '19', '12', '6', '2', '4',\n",
       "        '17', '13', '4', '20'],\n",
       "       ['6', 'West Ham', '23', '11', '6', '6', '34', '28', '6', '39',\n",
       "        '11', '5', '3', '3', '16', '14', '2', '18', '12', '6', '3', '3',\n",
       "        '18', '14', '4', '21'],\n",
       "       ['7', 'Everton', '21', '11', '4', '6', '34', '28', '6', '37',\n",
       "        '10', '4', '2', '4', '16', '15', '1', '14', '11', '7', '2', '2',\n",
       "        '18', '13', '5', '23'],\n",
       "       ['8', 'Tottenham', '22', '10', '6', '6', '36', '22', '14', '36',\n",
       "        '12', '5', '3', '4', '17', '13', '4', '18', '10', '5', '3', '2',\n",
       "        '19', '9', '10', '18'],\n",
       "       ['9', 'Aston Villa', '21', '11', '2', '8', '36', '24', '12', '35',\n",
       "        '10', '5', '1', '4', '19', '14', '5', '16', '11', '6', '1', '4',\n",
       "        '17', '10', '7', '19'],\n",
       "       ['10', 'Leeds', '22', '10', '2', '10', '38', '38', '0', '32',\n",
       "        '11', '4', '2', '5', '16', '16', '0', '14', '11', '6', '0', '5',\n",
       "        '22', '22', '0', '18'],\n",
       "       ['11', 'Arsenal', '23', '9', '4', '10', '27', '23', '4', '31',\n",
       "        '11', '4', '3', '4', '12', '11', '1', '15', '12', '5', '1', '6',\n",
       "        '15', '12', '3', '16'],\n",
       "       ['12', 'Southampton', '22', '8', '5', '9', '29', '37', '-8', '29',\n",
       "        '11', '5', '1', '5', '15', '13', '2', '16', '11', '3', '4', '4',\n",
       "        '14', '24', '-10', '13'],\n",
       "       ['13', 'Crystal Palace', '23', '8', '5', '10', '27', '39', '-12',\n",
       "        '29', '11', '4', '3', '4', '14', '18', '-4', '15', '12', '4',\n",
       "        '2', '6', '13', '21', '-8', '14'],\n",
       "       ['14', 'Wolves', '23', '7', '6', '10', '23', '31', '-8', '27',\n",
       "        '12', '4', '4', '4', '14', '14', '0', '16', '11', '3', '2', '6',\n",
       "        '9', '17', '-8', '11'],\n",
       "       ['15', 'Brighton', '23', '5', '10', '8', '25', '30', '-5', '25',\n",
       "        '11', '1', '6', '4', '11', '15', '-4', '9', '12', '4', '4', '4',\n",
       "        '14', '15', '-1', '16'],\n",
       "       ['16', 'Newcastle', '23', '7', '4', '12', '25', '38', '-13', '25',\n",
       "        '12', '4', '2', '6', '15', '21', '-6', '14', '11', '3', '2', '6',\n",
       "        '10', '17', '-7', '11'],\n",
       "       ['17', 'Burnley', '22', '6', '5', '11', '14', '29', '-15', '23',\n",
       "        '11', '4', '2', '5', '9', '13', '-4', '14', '11', '2', '3', '6',\n",
       "        '5', '16', '-11', '9'],\n",
       "       ['18', 'Fulham', '22', '2', '9', '11', '17', '31', '-14', '15',\n",
       "        '12', '1', '4', '7', '7', '17', '-10', '7', '10', '1', '5', '4',\n",
       "        '10', '14', '-4', '8'],\n",
       "       ['19', 'West Brom', '23', '2', '6', '15', '18', '54', '-36', '12',\n",
       "        '11', '1', '3', '7', '7', '31', '-24', '6', '12', '1', '3', '8',\n",
       "        '11', '23', '-12', '6'],\n",
       "       ['20', 'Sheffield United', '23', '3', '2', '18', '15', '37',\n",
       "        '-22', '11', '12', '2', '1', '9', '9', '18', '-9', '7', '11',\n",
       "        '1', '1', '9', '6', '19', '-13', '4']], dtype='<U16')"
      ]
     },
     "execution_count": 28,
     "metadata": {},
     "output_type": "execute_result"
    }
   ],
   "source": [
    "# SORT BY LEAGUE POSITION\n",
    "idx_position = league_table[:, 0].astype(\"int64\").argsort()\n",
    "league_table = league_table[idx_position]\n",
    "league_table"
   ]
  },
  {
   "cell_type": "markdown",
   "metadata": {},
   "source": [
    "## GENERALISE TO FUNCTIONS"
   ]
  },
  {
   "cell_type": "code",
   "execution_count": 29,
   "metadata": {
    "ExecuteTime": {
     "end_time": "2021-02-15T22:31:33.266721Z",
     "start_time": "2021-02-15T22:31:33.238762Z"
    }
   },
   "outputs": [],
   "source": [
    "# FUNCTIONS\n",
    "# CONSTRUCT LEAGUE TABLE WITHOUT POSITION\n",
    "def CreateFirstTable(teams):\n",
    "    league_table = []\n",
    "    for j in range(0, teams.size):\n",
    "        home_appearances = HomeAppearances(teams[j])\n",
    "        home_wins = HomeWins(teams[j])\n",
    "        home_draws = HomeDraws(teams[j])\n",
    "        home_losses = HomeLosses(teams[j])\n",
    "        home_for = HomeFor(teams[j])\n",
    "        home_against = HomeAgainst(teams[j])\n",
    "        home_diff = home_for - home_against\n",
    "        home_points = 3*home_wins + home_draws\n",
    "        away_appearances = AwayAppearances(teams[j])\n",
    "        away_wins = AwayWins(teams[j])\n",
    "        away_draws = AwayDraws(teams[j])\n",
    "        away_losses = AwayLosses(teams[j])\n",
    "        away_for = AwayFor(teams[j])\n",
    "        away_against = AwayAgainst(teams[j])\n",
    "        away_diff = away_for - away_against\n",
    "        away_points = 3*away_wins + away_draws\n",
    "        appearances = home_appearances + away_appearances\n",
    "        wins = home_wins + away_wins\n",
    "        draws = home_draws + away_draws\n",
    "        losses = home_losses + away_losses\n",
    "        goals_for = home_for + away_for\n",
    "        goals_against = home_against + away_against\n",
    "        diff = goals_for - goals_against\n",
    "        points = 3*wins + draws\n",
    "\n",
    "        row_table = ['', teams[j], appearances, wins, draws, losses, goals_for, goals_against, diff, points, \\\n",
    "                    home_appearances, home_wins, home_draws, home_losses, home_for, home_against, home_diff, home_points, \\\n",
    "                    away_appearances, away_wins, away_draws, away_losses, away_for, away_against, away_diff, away_points]\n",
    "        league_table.append(row_table)\n",
    "    league_table = np.asarray(league_table)\n",
    "    return league_table\n",
    "\n",
    "# SORT TABLE BY DESCENDING POINTS\n",
    "def SortTableByPoints(league_table):\n",
    "    idx_points = league_table[:, col_points].argsort()[::-1]\n",
    "    league_table = league_table[idx_points]\n",
    "    return league_table\n",
    "\n",
    "# ADD POSITION, DEAL WITH TIES\n",
    "def AddPositionToTable(league_table):\n",
    "    j = 0\n",
    "    while j < league_table.shape[0]-1: # Selection sort needs to be implemented a min of n-1 times\n",
    "        for i in range(0, league_table.shape[0]-1):\n",
    "            if league_table[i][col_points] == league_table[i+1][col_points]:\n",
    "                if league_table[i][col_diff] == league_table[i+1][col_diff]:\n",
    "                    if league_table[i][col_for] == league_table[i+1][col_for]:\n",
    "                        league_table[i][0] = i+1 # both have same position\n",
    "                        league_table[i+1][0] = i+1\n",
    "                    elif int(league_table[i][col_for]) > int(league_table[i+1][col_for]):\n",
    "                        league_table[i][0] = i+1\n",
    "                        league_table[i+1][0] = i+2\n",
    "                elif int(league_table[i][col_diff]) > int(league_table[i+1][col_diff]):\n",
    "                    league_table[i][0] = i+1\n",
    "                    league_table[i+1][0] = i+2\n",
    "            if int(league_table[i][col_points]) > int(league_table[i+1][col_points]):\n",
    "                league_table[i][0] = i+1\n",
    "                league_table[i+1][0] = i+2\n",
    "        j += 1\n",
    "    return league_table\n",
    "\n",
    "# SORT BY LEAGUE POSITION\n",
    "def SortTableByPosition(league_table):\n",
    "    idx_position = league_table[:, 0].astype(\"int64\").argsort()\n",
    "    league_table = league_table[idx_position]\n",
    "    return league_table"
   ]
  },
  {
   "cell_type": "code",
   "execution_count": 30,
   "metadata": {
    "ExecuteTime": {
     "end_time": "2021-02-15T22:31:33.282645Z",
     "start_time": "2021-02-15T22:31:33.269679Z"
    }
   },
   "outputs": [],
   "source": [
    "# CREATE FINAL TABLE\n",
    "def CreateTable(teams):\n",
    "    league_table = CreateFirstTable(teams)\n",
    "    league_table = SortTableByPoints(league_table)\n",
    "    league_table = AddPositionToTable(league_table)\n",
    "    league_table = SortTableByPosition(league_table)\n",
    "    return league_table"
   ]
  },
  {
   "cell_type": "code",
   "execution_count": 31,
   "metadata": {
    "ExecuteTime": {
     "end_time": "2021-02-15T22:31:33.441360Z",
     "start_time": "2021-02-15T22:31:33.284639Z"
    }
   },
   "outputs": [
    {
     "data": {
      "text/plain": [
       "array([['1', 'Man City', '22', '15', '5', '2', '43', '14', '29', '50',\n",
       "        '11', '8', '2', '1', '22', '7', '15', '26', '11', '7', '3', '1',\n",
       "        '21', '7', '14', '24'],\n",
       "       ['2', 'Man United', '23', '13', '6', '4', '49', '30', '19', '45',\n",
       "        '12', '5', '3', '4', '25', '18', '7', '18', '11', '8', '3', '0',\n",
       "        '24', '12', '12', '27'],\n",
       "       ['3', 'Leicester', '23', '13', '4', '6', '39', '25', '14', '43',\n",
       "        '11', '5', '1', '5', '16', '15', '1', '16', '12', '8', '3', '1',\n",
       "        '23', '10', '13', '27'],\n",
       "       ['4', 'Liverpool', '23', '11', '7', '5', '44', '29', '15', '40',\n",
       "        '12', '7', '2', '3', '22', '14', '8', '23', '11', '4', '5', '2',\n",
       "        '22', '15', '7', '17'],\n",
       "       ['5', 'Chelsea', '23', '11', '6', '6', '38', '24', '14', '39',\n",
       "        '11', '5', '4', '2', '21', '11', '10', '19', '12', '6', '2', '4',\n",
       "        '17', '13', '4', '20'],\n",
       "       ['6', 'West Ham', '23', '11', '6', '6', '34', '28', '6', '39',\n",
       "        '11', '5', '3', '3', '16', '14', '2', '18', '12', '6', '3', '3',\n",
       "        '18', '14', '4', '21'],\n",
       "       ['7', 'Everton', '21', '11', '4', '6', '34', '28', '6', '37',\n",
       "        '10', '4', '2', '4', '16', '15', '1', '14', '11', '7', '2', '2',\n",
       "        '18', '13', '5', '23'],\n",
       "       ['8', 'Tottenham', '22', '10', '6', '6', '36', '22', '14', '36',\n",
       "        '12', '5', '3', '4', '17', '13', '4', '18', '10', '5', '3', '2',\n",
       "        '19', '9', '10', '18'],\n",
       "       ['9', 'Aston Villa', '21', '11', '2', '8', '36', '24', '12', '35',\n",
       "        '10', '5', '1', '4', '19', '14', '5', '16', '11', '6', '1', '4',\n",
       "        '17', '10', '7', '19'],\n",
       "       ['10', 'Leeds', '22', '10', '2', '10', '38', '38', '0', '32',\n",
       "        '11', '4', '2', '5', '16', '16', '0', '14', '11', '6', '0', '5',\n",
       "        '22', '22', '0', '18'],\n",
       "       ['11', 'Arsenal', '23', '9', '4', '10', '27', '23', '4', '31',\n",
       "        '11', '4', '3', '4', '12', '11', '1', '15', '12', '5', '1', '6',\n",
       "        '15', '12', '3', '16'],\n",
       "       ['12', 'Southampton', '22', '8', '5', '9', '29', '37', '-8', '29',\n",
       "        '11', '5', '1', '5', '15', '13', '2', '16', '11', '3', '4', '4',\n",
       "        '14', '24', '-10', '13'],\n",
       "       ['13', 'Crystal Palace', '23', '8', '5', '10', '27', '39', '-12',\n",
       "        '29', '11', '4', '3', '4', '14', '18', '-4', '15', '12', '4',\n",
       "        '2', '6', '13', '21', '-8', '14'],\n",
       "       ['14', 'Wolves', '23', '7', '6', '10', '23', '31', '-8', '27',\n",
       "        '12', '4', '4', '4', '14', '14', '0', '16', '11', '3', '2', '6',\n",
       "        '9', '17', '-8', '11'],\n",
       "       ['15', 'Brighton', '23', '5', '10', '8', '25', '30', '-5', '25',\n",
       "        '11', '1', '6', '4', '11', '15', '-4', '9', '12', '4', '4', '4',\n",
       "        '14', '15', '-1', '16'],\n",
       "       ['16', 'Newcastle', '23', '7', '4', '12', '25', '38', '-13', '25',\n",
       "        '12', '4', '2', '6', '15', '21', '-6', '14', '11', '3', '2', '6',\n",
       "        '10', '17', '-7', '11'],\n",
       "       ['17', 'Burnley', '22', '6', '5', '11', '14', '29', '-15', '23',\n",
       "        '11', '4', '2', '5', '9', '13', '-4', '14', '11', '2', '3', '6',\n",
       "        '5', '16', '-11', '9'],\n",
       "       ['18', 'Fulham', '22', '2', '9', '11', '17', '31', '-14', '15',\n",
       "        '12', '1', '4', '7', '7', '17', '-10', '7', '10', '1', '5', '4',\n",
       "        '10', '14', '-4', '8'],\n",
       "       ['19', 'West Brom', '23', '2', '6', '15', '18', '54', '-36', '12',\n",
       "        '11', '1', '3', '7', '7', '31', '-24', '6', '12', '1', '3', '8',\n",
       "        '11', '23', '-12', '6'],\n",
       "       ['20', 'Sheffield United', '23', '3', '2', '18', '15', '37',\n",
       "        '-22', '11', '12', '2', '1', '9', '9', '18', '-9', '7', '11',\n",
       "        '1', '1', '9', '6', '19', '-13', '4']], dtype='<U16')"
      ]
     },
     "execution_count": 31,
     "metadata": {},
     "output_type": "execute_result"
    }
   ],
   "source": [
    "# TEST CREATETABLE\n",
    "table_PL = CreateTable(teams)\n",
    "table_PL"
   ]
  },
  {
   "cell_type": "markdown",
   "metadata": {},
   "source": [
    "# TABLE OF GOALS SCORED / CONCEDED <a class=\"anchor\" id=\"table-goals\"></a>"
   ]
  },
  {
   "cell_type": "code",
   "execution_count": 32,
   "metadata": {
    "ExecuteTime": {
     "end_time": "2021-02-15T22:31:33.457282Z",
     "start_time": "2021-02-15T22:31:33.443320Z"
    }
   },
   "outputs": [],
   "source": [
    "# LOCAL PARAMETERS\n",
    "col_avg_for = 2\n",
    "col_avg_diff = 4"
   ]
  },
  {
   "cell_type": "code",
   "execution_count": 33,
   "metadata": {
    "ExecuteTime": {
     "end_time": "2021-02-15T22:31:33.489073Z",
     "start_time": "2021-02-15T22:31:33.460277Z"
    }
   },
   "outputs": [],
   "source": [
    "# FUNCTIONS\n",
    "def TableGoals(teams):\n",
    "    table_goals = []\n",
    "    for j in range(0, num_teams):\n",
    "        home_appearances = HomeAppearances(teams[j])\n",
    "        home_for = HomeFor(teams[j])\n",
    "        home_against = HomeAgainst(teams[j])\n",
    "        home_diff = home_for - home_against\n",
    "        home_for_avg = home_for / home_appearances\n",
    "        home_against_avg = home_against / home_appearances\n",
    "        home_diff_avg = (home_for - home_against) / home_appearances\n",
    "        away_appearances = AwayAppearances(teams[j])\n",
    "        away_for = AwayFor(teams[j])\n",
    "        away_against = AwayAgainst(teams[j])\n",
    "        away_diff = away_for - away_against\n",
    "        away_for_avg = away_for / away_appearances\n",
    "        away_against_avg = away_against / away_appearances\n",
    "        away_diff_avg = (away_for - away_against) / away_appearances\n",
    "        all_appearances = home_appearances + away_appearances\n",
    "        all_for = home_for + away_for\n",
    "        all_against = home_against + away_against\n",
    "        all_diff = all_for - all_against\n",
    "        all_for_avg = all_for / all_appearances\n",
    "        all_against_avg = all_against / all_appearances\n",
    "        all_diff_avg = (all_for - all_against) / all_appearances\n",
    "        \n",
    "        row_table = ['', teams[j], all_for_avg, all_against_avg, all_diff_avg, all_appearances, all_for, all_against, all_diff, \\\n",
    "                 home_for_avg, home_against_avg, home_diff_avg, home_appearances, home_for, home_against, home_diff, \\\n",
    "                 away_for_avg, away_against_avg, away_diff_avg, away_appearances, away_for, away_against, away_diff]\n",
    "        table_goals.append(row_table)\n",
    "    table_goals = np.asarray(table_goals)\n",
    "    return table_goals\n",
    "\n",
    "def SortTableByAvgDiff(table_goals):\n",
    "    idx_diff = table_goals[:, col_avg_diff].argsort()[::-1]\n",
    "    table_goals = table_goals[idx_diff]\n",
    "    return table_goals\n",
    "\n",
    "def AddPositionToGoalsTable(table_goals):\n",
    "    k = 0\n",
    "    while k < league_table.shape[0]-1: # Selection sort needs to be implemented a min of n-1 times\n",
    "        for j in range(0, num_teams-1):\n",
    "            if table_goals[j][col_avg_diff] == table_goals[j+1][col_avg_diff]:\n",
    "                if table_goals[j][col_avg_for] == table_goals[j+1][col_avg_for]:\n",
    "                    print(\"ASDAS\")\n",
    "                    table_goals[j][0] = j+1 # Both have same position\n",
    "                    table_goals[j+1][0] = j+1\n",
    "                elif table_goals[j][col_avg_for] > table_goals[j+1][col_avg_for]:\n",
    "                    table_goals[j][0] = j+1\n",
    "                    table_goals[j+1][0] = j+2\n",
    "            elif table_goals[j][col_avg_diff] > table_goals[j+1][col_avg_diff]:\n",
    "                table_goals[j][0] = j+1\n",
    "                table_goals[j+1][0] = j+2\n",
    "        k += 1\n",
    "    return table_goals"
   ]
  },
  {
   "cell_type": "code",
   "execution_count": 34,
   "metadata": {
    "ExecuteTime": {
     "end_time": "2021-02-15T22:31:33.503965Z",
     "start_time": "2021-02-15T22:31:33.491030Z"
    }
   },
   "outputs": [],
   "source": [
    "# CREATE FINAL GOALS TABLE\n",
    "def CreateGoalsTable(teams):\n",
    "    table_goals = TableGoals(teams)\n",
    "    table_goals = SortTableByAvgDiff(table_goals)\n",
    "    table_goals = AddPositionToGoalsTable(table_goals)\n",
    "    table_goals = SortTableByPosition(table_goals)\n",
    "    return table_goals"
   ]
  },
  {
   "cell_type": "code",
   "execution_count": 35,
   "metadata": {
    "ExecuteTime": {
     "end_time": "2021-02-15T22:31:33.676309Z",
     "start_time": "2021-02-15T22:31:33.505959Z"
    },
    "scrolled": true
   },
   "outputs": [
    {
     "data": {
      "text/plain": [
       "array([['1', 'Man City', '1.9545454545454546', '0.6363636363636364',\n",
       "        '1.3181818181818181', '22', '43', '14', '29', '2.0',\n",
       "        '0.6363636363636364', '1.3636363636363635', '11', '22', '7',\n",
       "        '15', '1.9090909090909092', '0.6363636363636364',\n",
       "        '1.2727272727272727', '11', '21', '7', '14'],\n",
       "       ['2', 'Man United', '2.130434782608696', '1.3043478260869565',\n",
       "        '0.8260869565217391', '23', '49', '30', '19',\n",
       "        '2.0833333333333335', '1.5', '0.5833333333333334', '12', '25',\n",
       "        '18', '7', '2.1818181818181817', '1.0909090909090908',\n",
       "        '1.0909090909090908', '11', '24', '12', '12'],\n",
       "       ['3', 'Liverpool', '1.9130434782608696', '1.2608695652173914',\n",
       "        '0.6521739130434783', '23', '44', '29', '15',\n",
       "        '1.8333333333333333', '1.1666666666666667', '0.6666666666666666',\n",
       "        '12', '22', '14', '8', '2.0', '1.3636363636363635',\n",
       "        '0.6363636363636364', '11', '22', '15', '7'],\n",
       "       ['4', 'Tottenham', '1.6363636363636365', '1.0',\n",
       "        '0.6363636363636364', '22', '36', '22', '14',\n",
       "        '1.4166666666666667', '1.0833333333333333', '0.3333333333333333',\n",
       "        '12', '17', '13', '4', '1.9', '0.9', '1.0', '10', '19', '9',\n",
       "        '10'],\n",
       "       ['5', 'Leicester', '1.6956521739130435', '1.0869565217391304',\n",
       "        '0.6086956521739131', '23', '39', '25', '14',\n",
       "        '1.4545454545454546', '1.3636363636363635',\n",
       "        '0.09090909090909091', '11', '16', '15', '1',\n",
       "        '1.9166666666666667', '0.8333333333333334', '1.0833333333333333',\n",
       "        '12', '23', '10', '13'],\n",
       "       ['6', 'Chelsea', '1.6521739130434783', '1.0434782608695652',\n",
       "        '0.6086956521739131', '23', '38', '24', '14',\n",
       "        '1.9090909090909092', '1.0', '0.9090909090909091', '11', '21',\n",
       "        '11', '10', '1.4166666666666667', '1.0833333333333333',\n",
       "        '0.3333333333333333', '12', '17', '13', '4'],\n",
       "       ['7', 'Aston Villa', '1.7142857142857142', '1.1428571428571428',\n",
       "        '0.5714285714285714', '21', '36', '24', '12', '1.9', '1.4',\n",
       "        '0.5', '10', '19', '14', '5', '1.5454545454545454',\n",
       "        '0.9090909090909091', '0.6363636363636364', '11', '17', '10',\n",
       "        '7'],\n",
       "       ['8', 'Everton', '1.619047619047619', '1.3333333333333333',\n",
       "        '0.2857142857142857', '21', '34', '28', '6', '1.6', '1.5', '0.1',\n",
       "        '10', '16', '15', '1', '1.6363636363636365',\n",
       "        '1.1818181818181819', '0.45454545454545453', '11', '18', '13',\n",
       "        '5'],\n",
       "       ['9', 'West Ham', '1.4782608695652173', '1.2173913043478262',\n",
       "        '0.2608695652173913', '23', '34', '28', '6',\n",
       "        '1.4545454545454546', '1.2727272727272727',\n",
       "        '0.18181818181818182', '11', '16', '14', '2', '1.5',\n",
       "        '1.1666666666666667', '0.3333333333333333', '12', '18', '14',\n",
       "        '4'],\n",
       "       ['10', 'Arsenal', '1.173913043478261', '1.0',\n",
       "        '0.17391304347826086', '23', '27', '23', '4',\n",
       "        '1.0909090909090908', '1.0', '0.09090909090909091', '11', '12',\n",
       "        '11', '1', '1.25', '1.0', '0.25', '12', '15', '12', '3'],\n",
       "       ['11', 'Leeds', '1.7272727272727273', '1.7272727272727273', '0.0',\n",
       "        '22', '38', '38', '0', '1.4545454545454546',\n",
       "        '1.4545454545454546', '0.0', '11', '16', '16', '0', '2.0', '2.0',\n",
       "        '0.0', '11', '22', '22', '0'],\n",
       "       ['12', 'West Brom', '0.782608695652174', '2.347826086956522',\n",
       "        '-1.565217391304348', '23', '18', '54', '-36',\n",
       "        '0.6363636363636364', '2.8181818181818183',\n",
       "        '-2.1818181818181817', '11', '7', '31', '-24',\n",
       "        '0.9166666666666666', '1.9166666666666667', '-1.0', '12', '11',\n",
       "        '23', '-12'],\n",
       "       ['13', 'Sheffield United', '0.6521739130434783',\n",
       "        '1.608695652173913', '-0.9565217391304348', '23', '15', '37',\n",
       "        '-22', '0.75', '1.5', '-0.75', '12', '9', '18', '-9',\n",
       "        '0.5454545454545454', '1.7272727272727273',\n",
       "        '-1.1818181818181819', '11', '6', '19', '-13'],\n",
       "       ['14', 'Burnley', '0.6363636363636364', '1.3181818181818181',\n",
       "        '-0.6818181818181818', '22', '14', '29', '-15',\n",
       "        '0.8181818181818182', '1.1818181818181819',\n",
       "        '-0.36363636363636365', '11', '9', '13', '-4',\n",
       "        '0.45454545454545453', '1.4545454545454546', '-1.0', '11', '5',\n",
       "        '16', '-11'],\n",
       "       ['15', 'Fulham', '0.7727272727272727', '1.4090909090909092',\n",
       "        '-0.6363636363636364', '22', '17', '31', '-14',\n",
       "        '0.5833333333333334', '1.4166666666666667',\n",
       "        '-0.8333333333333334', '12', '7', '17', '-10', '1.0', '1.4',\n",
       "        '-0.4', '10', '10', '14', '-4'],\n",
       "       ['16', 'Newcastle', '1.0869565217391304', '1.6521739130434783',\n",
       "        '-0.5652173913043478', '23', '25', '38', '-13', '1.25', '1.75',\n",
       "        '-0.5', '12', '15', '21', '-6', '0.9090909090909091',\n",
       "        '1.5454545454545454', '-0.6363636363636364', '11', '10', '17',\n",
       "        '-7'],\n",
       "       ['17', 'Crystal Palace', '1.173913043478261',\n",
       "        '1.6956521739130435', '-0.5217391304347826', '23', '27', '39',\n",
       "        '-12', '1.2727272727272727', '1.6363636363636365',\n",
       "        '-0.36363636363636365', '11', '14', '18', '-4',\n",
       "        '1.0833333333333333', '1.75', '-0.6666666666666666', '12', '13',\n",
       "        '21', '-8'],\n",
       "       ['18', 'Southampton', '1.3181818181818181', '1.6818181818181819',\n",
       "        '-0.36363636363636365', '22', '29', '37', '-8',\n",
       "        '1.3636363636363635', '1.1818181818181819',\n",
       "        '0.18181818181818182', '11', '15', '13', '2',\n",
       "        '1.2727272727272727', '2.1818181818181817',\n",
       "        '-0.9090909090909091', '11', '14', '24', '-10'],\n",
       "       ['19', 'Wolves', '1.0', '1.3478260869565217',\n",
       "        '-0.34782608695652173', '23', '23', '31', '-8',\n",
       "        '1.1666666666666667', '1.1666666666666667', '0.0', '12', '14',\n",
       "        '14', '0', '0.8181818181818182', '1.5454545454545454',\n",
       "        '-0.7272727272727273', '11', '9', '17', '-8'],\n",
       "       ['20', 'Brighton', '1.0869565217391304', '1.3043478260869565',\n",
       "        '-0.21739130434782608', '23', '25', '30', '-5', '1.0',\n",
       "        '1.3636363636363635', '-0.36363636363636365', '11', '11', '15',\n",
       "        '-4', '1.1666666666666667', '1.25', '-0.08333333333333333', '12',\n",
       "        '14', '15', '-1']], dtype='<U20')"
      ]
     },
     "execution_count": 35,
     "metadata": {},
     "output_type": "execute_result"
    }
   ],
   "source": [
    "# TEST CREATEGOALTABLE FUNCTION\n",
    "table_goals = CreateGoalsTable(teams)\n",
    "table_goals"
   ]
  },
  {
   "cell_type": "markdown",
   "metadata": {},
   "source": [
    "# EXPORTING <a class=\"anchor\" id=\"exporting\"></a>"
   ]
  },
  {
   "cell_type": "markdown",
   "metadata": {},
   "source": [
    "## PARAMETERS, FORMATTING, FUNCTIONS"
   ]
  },
  {
   "cell_type": "code",
   "execution_count": 36,
   "metadata": {
    "ExecuteTime": {
     "end_time": "2021-02-15T22:31:33.708224Z",
     "start_time": "2021-02-15T22:31:33.685282Z"
    }
   },
   "outputs": [],
   "source": [
    "# PARAMETERS\n",
    "headings_league_table = ['Position', 'Team', 'Played', 'Wins', 'Draws', 'Losses', 'For', 'Against', 'Diff', 'Points', \\\n",
    "                         'Played', 'Wins', 'Draws', 'Losses', 'For', 'Against', 'Diff', 'Points', \\\n",
    "                         'Played', 'Wins', 'Draws', 'Losses', 'For', 'Against', 'Diff', 'Points']\n",
    "headings_table_goals = ['Position', 'Team', 'For avg', 'Against avg', 'Diff avg', 'Played', 'For', 'Against', 'Diff', \\\n",
    "                       'For avg', 'Against avg', 'Diff avg', 'Played', 'For', 'Against', 'Diff', \\\n",
    "                       'For avg', 'Against avg', 'Diff avg', 'Played', 'For', 'Against', 'Diff']"
   ]
  },
  {
   "cell_type": "code",
   "execution_count": 37,
   "metadata": {
    "ExecuteTime": {
     "end_time": "2021-02-15T22:31:33.771014Z",
     "start_time": "2021-02-15T22:31:33.728699Z"
    }
   },
   "outputs": [],
   "source": [
    "# CELL FORMATTING\n",
    "def VariablesCellFormatting(workbook):\n",
    "    global cf_none\n",
    "    cf_none = workbook.add_format()\n",
    "    global cf_bold\n",
    "    cf_bold = workbook.add_format({'bold': True})\n",
    "    global cf_italic\n",
    "    cf_italic = workbook.add_format({'italic': True})\n",
    "    global cf_0dp\n",
    "    cf_0dp = workbook.add_format({'num_format': '0'})\n",
    "    global cf_2dp\n",
    "    cf_2dp = workbook.add_format({'num_format': '0.00'})\n",
    "    global cf_left\n",
    "    cf_left = workbook.add_format({'align': 'left'})\n",
    "    global cf_right\n",
    "    cf_right = workbook.add_format({'align': 'right'})\n",
    "    global cf_percent\n",
    "    cf_percent = workbook.add_format({'num_format': 9})\n",
    "    global cf_italic_percent\n",
    "    cf_italic_percent = workbook.add_format({'italic': True, 'num_format': 9})\n",
    "\n",
    "def CellFormatting():\n",
    "    global cfs_league_table\n",
    "    cfs_league_table = [cf_none, cf_none, cf_none, cf_none, cf_none, cf_none, cf_none, cf_none, cf_none, cf_none, \\\n",
    "                  cf_none, cf_none, cf_none, cf_none, cf_none, cf_none, cf_none, cf_none, \\\n",
    "                  cf_none, cf_none, cf_none, cf_none, cf_none, cf_none, cf_none, cf_none]\n",
    "    global cfs_table_goals\n",
    "    cfs_table_goals = [cf_none, cf_none, cf_2dp, cf_2dp, cf_2dp, cf_none, cf_none, cf_none, cf_none, \\\n",
    "                  cf_2dp, cf_2dp, cf_2dp, cf_none, cf_none, cf_none, cf_none, \\\n",
    "                  cf_2dp, cf_2dp, cf_2dp, cf_none, cf_none, cf_none, cf_none]\n",
    "\n",
    "def ColumnWidth(worksheet, default, team):\n",
    "    column_widths = []\n",
    "    for i in range(0, table_cols):\n",
    "        if i == 1: # Teams column\n",
    "            column_widths.append(team)\n",
    "        else:\n",
    "            column_widths.append(default)\n",
    "        worksheet.set_column(i, i, column_widths[i])"
   ]
  },
  {
   "cell_type": "code",
   "execution_count": 38,
   "metadata": {
    "ExecuteTime": {
     "end_time": "2021-02-15T22:31:33.943798Z",
     "start_time": "2021-02-15T22:31:33.778773Z"
    }
   },
   "outputs": [],
   "source": [
    "# FUNCTIONS\n",
    "def CreateWorkbook(number=''):\n",
    "    filename = f'Football data{number}.xlsx'\n",
    "    workbook = xlsxwriter.Workbook(filename, {'nan_inf_to_errors': True})\n",
    "    return workbook\n",
    "\n",
    "def CreateWorksheets(workbook, sheetnames):\n",
    "    worksheets = []\n",
    "    for i in range(0, len(sheetnames)):\n",
    "        worksheet = workbook.add_worksheet(sheetnames[i])\n",
    "        worksheets.append(worksheet)\n",
    "    return worksheets\n",
    "\n",
    "def WriteMetadata(worksheet, row, col):\n",
    "    quantities = ['Matches', 'Home goals', 'Away goals', 'Total goals', \\\n",
    "                       'Avg home goals', 'Avg away goals', 'Avg goals', 'Home advantage']\n",
    "    values = [n, total_home_goals, total_away_goals, total_goals, \\\n",
    "                   total_home_goals / n, total_away_goals / n, total_goals / n, total_home_goals/total_away_goals]\n",
    "    cfs = [cf_none, cf_none, cf_none, cf_none, cf_2dp, cf_2dp, cf_2dp, cf_2dp]\n",
    "    headings = ['Quantity', 'Value']\n",
    "    worksheet.write(row, col, f'{league} ANALYSIS', cf_bold)\n",
    "    worksheet.write(row+2, col, 'OVERALL FIGURES', cf_bold)\n",
    "    for i in range(len(headings)):\n",
    "        worksheet.write(row+3, col+i, headings[i], cf_bold)\n",
    "    for i in range(len(quantities)):\n",
    "        worksheet.write(row+4+i, col, quantities[i])\n",
    "        worksheet.write(row+4+i, col+1, values[i], cfs[i])\n",
    "\n",
    "def WriteCounts(table, worksheet, heading: str, row, col):\n",
    "    headings = [heading]\n",
    "    headings.append('Count')\n",
    "    headings.append('Percent')\n",
    "    row_0 = row\n",
    "    worksheet.write(row, col, f'COUNT: {heading.upper()}', cf_bold)\n",
    "    for i in range(len(headings)):\n",
    "        worksheet.write(row+1, col+i, headings[i], cf_bold)\n",
    "    for i in range(table.size):\n",
    "        worksheet.write(row+2, col, table.index[i], cf_left)\n",
    "        worksheet.write(row+2, col+1, table[i])\n",
    "        worksheet.write(row+2, col+2, '={0}{1}/{0}{2}'.format(alphabet[col+1], row+3, row_0+3+table.size), cf_percent)\n",
    "        row += 1\n",
    "    formula_sum = '=SUM(INDIRECT(\"{0}\"&{1}&\":\"&\"{0}\"&{2}))'\n",
    "    total_formulas = ['Total:', formula_sum, formula_sum]\n",
    "    cfs = [cf_italic, cf_italic, cf_italic_percent]\n",
    "    for i in range(0, len(headings)):\n",
    "        worksheet.write(row+2, col+i, total_formulas[i]\\\n",
    "                        .format(alphabet[i], row+3-table.size, row+2), cfs[i])\n",
    "\n",
    "def WriteTable(worksheet, table, headings, league, row, col, cfs):\n",
    "    worksheet.write(row, col, f'{league} TABLE', cf_bold)\n",
    "    worksheet.write(row+1, col+2,'HOME AND AWAY', cf_bold)\n",
    "    worksheet.write(row+1, col+10,'HOME', cf_bold)\n",
    "    worksheet.write(row+1, col+18,'AWAY', cf_bold)\n",
    "    for j in range(len(headings)):\n",
    "        worksheet.write(row+2, col+j, headings[j], cf_bold)\n",
    "    for i in range(num_teams):\n",
    "        for j in range(len(headings)):\n",
    "            if j == 1: # skip team name\n",
    "                worksheet.write(row+3+i, col+j, table[i][j], cfs[j])\n",
    "            else:\n",
    "                worksheet.write(row+3+i, col+j, float(table[i][j]), cfs[j])"
   ]
  },
  {
   "cell_type": "markdown",
   "metadata": {},
   "source": [
    "## EXPORTING"
   ]
  },
  {
   "cell_type": "code",
   "execution_count": 39,
   "metadata": {
    "ExecuteTime": {
     "end_time": "2021-02-15T22:31:34.068049Z",
     "start_time": "2021-02-15T22:31:33.947791Z"
    }
   },
   "outputs": [],
   "source": [
    "# WRITE TO EXCEL\n",
    "number = ''\n",
    "sheetnames = ['Overall', 'Tables']\n",
    "\n",
    "workbook = CreateWorkbook(number)\n",
    "worksheets = CreateWorksheets(workbook, sheetnames)\n",
    "VariablesCellFormatting(workbook)\n",
    "CellFormatting()\n",
    "ColumnWidth(worksheets[1], 4, 14)\n",
    "\n",
    "WriteMetadata(worksheets[0], 0, 0)\n",
    "WriteCounts(counts_result, worksheets[0], 'Result', 15, 0)\n",
    "WriteCounts(counts_goals, worksheets[0], 'Goals', 25, 0)\n",
    "WriteCounts(counts_kickoff, worksheets[0], 'Kickoff time', 40, 0)\n",
    "WriteCounts(counts_referee, worksheets[0], 'Referee', 60, 0)\n",
    "WriteTable(worksheets[1], table_PL, headings_league_table, f'{league} TABLE', 0, 0, cfs_league_table)\n",
    "WriteTable(worksheets[1], table_goals, headings_table_goals, f'{league} GOALS TABLE', 30, 0, cfs_table_goals)\n",
    "\n",
    "workbook.close()"
   ]
  }
 ],
 "metadata": {
  "kernelspec": {
   "display_name": "Python 3",
   "language": "python",
   "name": "python3"
  },
  "language_info": {
   "codemirror_mode": {
    "name": "ipython",
    "version": 3
   },
   "file_extension": ".py",
   "mimetype": "text/x-python",
   "name": "python",
   "nbconvert_exporter": "python",
   "pygments_lexer": "ipython3",
   "version": "3.8.5"
  },
  "toc": {
   "base_numbering": 1,
   "nav_menu": {
    "height": "349px",
    "width": "406px"
   },
   "number_sections": true,
   "sideBar": true,
   "skip_h1_title": false,
   "title_cell": "Table of Contents",
   "title_sidebar": "Contents",
   "toc_cell": false,
   "toc_position": {},
   "toc_section_display": true,
   "toc_window_display": false
  }
 },
 "nbformat": 4,
 "nbformat_minor": 4
}
